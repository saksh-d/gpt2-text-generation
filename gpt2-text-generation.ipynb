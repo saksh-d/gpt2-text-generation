{
 "cells": [
  {
   "cell_type": "markdown",
   "id": "880e6121",
   "metadata": {},
   "source": [
    "# GPT-2 Text Generation"
   ]
  },
  {
   "cell_type": "code",
   "execution_count": null,
   "id": "40b658d8",
   "metadata": {
    "vscode": {
     "languageId": "plaintext"
    }
   },
   "outputs": [],
   "source": []
  }
 ],
 "metadata": {
  "kernelspec": {
   "display_name": "pytorch",
   "language": "python",
   "name": "python3"
  },
  "language_info": {
   "codemirror_mode": {
    "name": "ipython",
    "version": 3
   },
   "file_extension": ".py",
   "mimetype": "text/x-python",
   "name": "python",
   "nbconvert_exporter": "python",
   "pygments_lexer": "ipython3",
   "version": "3.12.9"
  }
 },
 "nbformat": 4,
 "nbformat_minor": 5
}
